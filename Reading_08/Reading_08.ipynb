{
 "cells": [
  {
   "cell_type": "markdown",
   "metadata": {
    "toc": true
   },
   "source": [
    "<h1>Table of Contents<span class=\"tocSkip\"></span></h1>\n",
    "<div class=\"toc\"><ul class=\"toc-item\"><li><span><a href=\"#Challenge\" data-toc-modified-id=\"Challenge-1\"><span class=\"toc-item-num\">1&nbsp;&nbsp;</span>Challenge</a></span></li><li><span><a href=\"#Assignment\" data-toc-modified-id=\"Assignment-2\"><span class=\"toc-item-num\">2&nbsp;&nbsp;</span>Assignment</a></span><ul class=\"toc-item\"><li><span><a href=\"#Deliverables:-System-Scoping\" data-toc-modified-id=\"Deliverables:-System-Scoping-2.1\"><span class=\"toc-item-num\">2.1&nbsp;&nbsp;</span>Deliverables: System Scoping</a></span></li><li><span><a href=\"#Deliverables:-Model-Construction\" data-toc-modified-id=\"Deliverables:-Model-Construction-2.2\"><span class=\"toc-item-num\">2.2&nbsp;&nbsp;</span>Deliverables: Model Construction</a></span></li><li><span><a href=\"#Deliverables:-Model-Construction-and-Evaluation\" data-toc-modified-id=\"Deliverables:-Model-Construction-and-Evaluation-2.3\"><span class=\"toc-item-num\">2.3&nbsp;&nbsp;</span>Deliverables: Model Construction and Evaluation</a></span></li><li><span><a href=\"#Deliverables:-Using-your-model-for-prediction-under-different-circumstances\" data-toc-modified-id=\"Deliverables:-Using-your-model-for-prediction-under-different-circumstances-2.4\"><span class=\"toc-item-num\">2.4&nbsp;&nbsp;</span>Deliverables: Using your model for prediction under different circumstances</a></span></li><li><span><a href=\"#Deliverables:-Using-your-model-for-prediction-under-different-circumstances\" data-toc-modified-id=\"Deliverables:-Using-your-model-for-prediction-under-different-circumstances-2.5\"><span class=\"toc-item-num\">2.5&nbsp;&nbsp;</span>Deliverables: Using your model for prediction under different circumstances</a></span></li></ul></li></ul></div>"
   ]
  },
  {
   "cell_type": "markdown",
   "metadata": {
    "deletable": false,
    "editable": false,
    "nbgrader": {
     "cell_type": "markdown",
     "checksum": "baee163fe78c48fe1ffba439887624c0",
     "grade": false,
     "grade_id": "cell-854a24c8e9e7d436",
     "locked": true,
     "schema_version": 3,
     "solution": false
    }
   },
   "source": [
    "# Challenge"
   ]
  },
  {
   "cell_type": "markdown",
   "metadata": {
    "deletable": false,
    "editable": false,
    "nbgrader": {
     "cell_type": "markdown",
     "checksum": "1ba6683031692c2dbe487ac6db48a553",
     "grade": false,
     "grade_id": "cell-790c0d6f306cd65d",
     "locked": true,
     "schema_version": 3,
     "solution": false
    }
   },
   "source": [
    "In Reading 7, you learned about how a physics-based model could be constructed for a system containing an element that might be reasonably modeled as an idealized damper. In this notebook, no new content will be presented, but you will develop a physics-based model for a slightly more complex system than the one you studied for your assignment in Reading 7. You will need to use *almost* everything you have learned in this course so far."
   ]
  },
  {
   "cell_type": "markdown",
   "metadata": {
    "deletable": false,
    "editable": false,
    "nbgrader": {
     "cell_type": "markdown",
     "checksum": "ff7b1ff320a040e014cd65e631b505d9",
     "grade": false,
     "grade_id": "cell-6dd39a18f2bd3f9b",
     "locked": true,
     "schema_version": 3,
     "solution": false
    }
   },
   "source": [
    "# Assignment\n",
    "\n",
    "In this assignment, you will analyze the following system, consisting of a pulley, two hanging masses, and a string. Your charge is to build a *physics-based model* of the system using Newton's laws, with no explicit inputs other than gravity. Your system's output should be the *velocity of mass 2.*"
   ]
  },
  {
   "attachments": {
    "image.png": {
     "image/png": "[encoded data removed]"
    }
   },
   "cell_type": "markdown",
   "metadata": {
    "deletable": false,
    "editable": false,
    "nbgrader": {
     "cell_type": "markdown",
     "checksum": "00a4ffdf27ba42d09cb98044a4a1466b",
     "grade": false,
     "grade_id": "cell-d57692bc0c4ac56c",
     "locked": true,
     "schema_version": 3,
     "solution": false
    }
   },
   "source": [
    "![image.png](attachment:image.png)"
   ]
  },
  {
   "cell_type": "markdown",
   "metadata": {
    "deletable": false,
    "editable": false,
    "nbgrader": {
     "cell_type": "markdown",
     "checksum": "05b1f3a0d932feac480e3b434f9ad56d",
     "grade": false,
     "grade_id": "cell-5c8c4f7a7ef2fac1",
     "locked": true,
     "schema_version": 3,
     "solution": false
    }
   },
   "source": [
    "You know the following things for sure about the system's components:\n",
    "\n",
    "* As the system is drawn above, gravity acts downwards\n",
    "* $m_1$ and $m_2$ can be considered rigid bodies\n",
    "* $m_1 = 500g$ and $m_2=510g$.\n",
    "* The pulley has a radius of $0.1m$ and a mass of $500g$.\n",
    "* There is adequate friction between the string and the pulley to prevent the string from slipping on the surface of the pulley.\n",
    "* The pulley is connected to a non-moving surface using a ball bearing.\n",
    "\n",
    "You were able to collect data for an experiment in which you first supported the two masses at an equal height, and then let them go at the same time. Data for this experiment is provided in the format `[time v_m2]` in the data file `reading8data.txt` included with this assignment. In the data file, $v_{m2}$ is defined positive upwards."
   ]
  },
  {
   "cell_type": "markdown",
   "metadata": {
    "deletable": false,
    "editable": false,
    "nbgrader": {
     "cell_type": "markdown",
     "checksum": "d11590ba60f5c20765c7ecfe182af582",
     "grade": false,
     "grade_id": "cell-a84298fc08b235db",
     "locked": true,
     "schema_version": 3,
     "solution": false
    }
   },
   "source": [
    "## Deliverables: System Scoping\n",
    "\n",
    "Scope your system below, including any \"break-out\" models you include (in the reading 7 example, we broke the truck into 3 subsystems, but you may have a different number here). Provide your diagrams as hand-drawn sketches or as a www.draw.io diagrams."
   ]
  },
  {
   "cell_type": "markdown",
   "metadata": {
    "deletable": false,
    "nbgrader": {
     "cell_type": "markdown",
     "checksum": "cbed900f9fba81ef6199d296c1144745",
     "grade": true,
     "grade_id": "cell-07bb8c66b365a27f",
     "locked": false,
     "points": 5,
     "schema_version": 3,
     "solution": true
    }
   },
   "source": [
    "YOUR ANSWER HERE"
   ]
  },
  {
   "cell_type": "markdown",
   "metadata": {
    "deletable": false,
    "editable": false,
    "nbgrader": {
     "cell_type": "markdown",
     "checksum": "000779e92826e00d7dedd23fff71eddf",
     "grade": false,
     "grade_id": "cell-585e55972e5f41cd",
     "locked": true,
     "schema_version": 3,
     "solution": false
    }
   },
   "source": [
    "## Deliverables: Model Construction\n",
    "\n",
    "Using what you know, develop a *physics-based* model for the system's behavior. This model should be *symbolic* (no numbers) because you want to make sure that the model will *generalize* to similar systems that may have different mass or friction properties. Present your model as a differential equation in the markdown cell below. You can **add more markdown cells to capture multiple pages of work using the cell menu, but do not delete the one I provided.**"
   ]
  },
  {
   "cell_type": "markdown",
   "metadata": {
    "deletable": false,
    "nbgrader": {
     "cell_type": "markdown",
     "checksum": "fb730a09cef1d8d5f41195d8339aba61",
     "grade": true,
     "grade_id": "cell-176a0a8b8a9ef8ad",
     "locked": false,
     "points": 10,
     "schema_version": 3,
     "solution": true
    }
   },
   "source": [
    "YOUR ANSWER HERE"
   ]
  },
  {
   "cell_type": "markdown",
   "metadata": {
    "deletable": false,
    "editable": false,
    "nbgrader": {
     "cell_type": "markdown",
     "checksum": "407f45d5cf0aa95496949b545ee0a42a",
     "grade": false,
     "grade_id": "cell-659589184aa19dc8",
     "locked": true,
     "schema_version": 3,
     "solution": false
    }
   },
   "source": [
    "## Deliverables: Model Construction and Evaluation\n",
    "\n",
    "The last step in constructing your model and the first step in evaluating your model is to produce an estimate for the pulley bearing's viscous damping coefficient $b$, and in doing so, confirm that your model has the correct *shape* when simulated. Do this by setting up an Euler integration code that will predict the velocity of $m_2$, and making a \"guess\" for $b$ in your code. Adjust your guess for $b$ until your model matches the data I provided with the assignment."
   ]
  },
  {
   "cell_type": "code",
   "execution_count": null,
   "metadata": {
    "deletable": false,
    "nbgrader": {
     "cell_type": "code",
     "checksum": "0eaed8835529f17a255ff0194e33490f",
     "grade": true,
     "grade_id": "cell-b231026bbb885f8a",
     "locked": false,
     "points": 0,
     "schema_version": 3,
     "solution": true
    }
   },
   "outputs": [],
   "source": [
    "% YOUR CODE HERE\n",
    "error('No Answer Given!')"
   ]
  },
  {
   "cell_type": "markdown",
   "metadata": {
    "deletable": false,
    "editable": false,
    "nbgrader": {
     "cell_type": "markdown",
     "checksum": "e529fabdde675b5c76ad0194ae89c8ea",
     "grade": false,
     "grade_id": "cell-1299de51d63787d4",
     "locked": true,
     "schema_version": 3,
     "solution": false
    }
   },
   "source": [
    "## Deliverables: Using your model for prediction under different circumstances\n",
    "\n",
    "Simulate what would happen if you added 100 grams of mass to $m_2$. Does this match your intuition? "
   ]
  },
  {
   "cell_type": "code",
   "execution_count": null,
   "metadata": {
    "deletable": false,
    "nbgrader": {
     "cell_type": "code",
     "checksum": "035c20c042211237421023a62fcbe559",
     "grade": true,
     "grade_id": "cell-7a0a0f241c55f870",
     "locked": false,
     "points": 5,
     "schema_version": 3,
     "solution": true
    }
   },
   "outputs": [],
   "source": [
    "% YOUR CODE HERE\n",
    "error('No Answer Given!')"
   ]
  },
  {
   "cell_type": "markdown",
   "metadata": {
    "deletable": false,
    "editable": false,
    "nbgrader": {
     "cell_type": "markdown",
     "checksum": "9fb4be5a13f42c4c0825e82d2844e8f5",
     "grade": false,
     "grade_id": "cell-425d3aebb0354a20",
     "locked": true,
     "schema_version": 3,
     "solution": false
    }
   },
   "source": [
    "## Deliverables: Using your model for prediction under different circumstances\n",
    "\n",
    "Using your model for the *original* setup of the model, predict how long it would take for mass 1 to reach the pulley if both sides of the string were initially $0.1m$ long. **hint: you may need to use Euler integration twice!**"
   ]
  },
  {
   "cell_type": "code",
   "execution_count": null,
   "metadata": {
    "deletable": false,
    "nbgrader": {
     "cell_type": "code",
     "checksum": "f2ccd3490795082f3facd6ae56dc6549",
     "grade": true,
     "grade_id": "cell-15329445f91d01f4",
     "locked": false,
     "points": 5,
     "schema_version": 3,
     "solution": true
    }
   },
   "outputs": [],
   "source": [
    "% YOUR CODE HERE\n",
    "error('No Answer Given!')"
   ]
  }
 ],
 "metadata": {
  "hide_input": false,
  "kernelspec": {
   "display_name": "Octave",
   "language": "octave",
   "name": "octave"
  },
  "language_info": {
   "file_extension": ".m",
   "help_links": [
    {
     "text": "GNU Octave",
     "url": "https://www.gnu.org/software/octave/support.html"
    },
    {
     "text": "Octave Kernel",
     "url": "https://github.com/Calysto/octave_kernel"
    },
    {
     "text": "MetaKernel Magics",
     "url": "https://metakernel.readthedocs.io/en/latest/source/README.html"
    }
   ],
   "mimetype": "text/x-octave",
   "name": "octave",
   "version": "4.2.2"
  },
  "toc": {
   "base_numbering": 1,
   "nav_menu": {},
   "number_sections": true,
   "sideBar": true,
   "skip_h1_title": false,
   "title_cell": "Table of Contents",
   "title_sidebar": "Contents",
   "toc_cell": true,
   "toc_position": {},
   "toc_section_display": true,
   "toc_window_display": false
  }
 },
 "nbformat": 4,
 "nbformat_minor": 2
}
